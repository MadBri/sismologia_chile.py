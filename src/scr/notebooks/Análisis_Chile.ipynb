# %% [markdown]
   # Análisis del Terremoto Chile 2025
   # %% 
   from obspy import read
   import matplotlib.pyplot as plt

   # %%
   st = read("datos/crudos/terremoto_chile.sac")
   st.plot()
